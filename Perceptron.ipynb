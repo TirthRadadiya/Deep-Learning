{
  "nbformat": 4,
  "nbformat_minor": 0,
  "metadata": {
    "colab": {
      "provenance": []
    },
    "kernelspec": {
      "name": "python3",
      "display_name": "Python 3"
    },
    "language_info": {
      "name": "python"
    }
  },
  "cells": [
    {
      "cell_type": "code",
      "execution_count": 1,
      "metadata": {
        "id": "LxpK1vmkfc5D"
      },
      "outputs": [],
      "source": [
        "import numpy as np"
      ]
    },
    {
      "cell_type": "code",
      "source": [
        "from sklearn.datasets import make_classification\n",
        "import numpy as np\n",
        "X, y = make_classification(n_samples=100, n_features=3, n_informative=1,n_redundant=0,\n",
        "                           n_classes=2, n_clusters_per_class=1, random_state=41,hypercube=False,class_sep=10)"
      ],
      "metadata": {
        "id": "vo5wPAK9gAsr"
      },
      "execution_count": 6,
      "outputs": []
    },
    {
      "cell_type": "code",
      "source": [
        "class Activation_function():\n",
        "  def step(self,z):\n",
        "    if z>0:\n",
        "      return 1\n",
        "    else:\n",
        "      return 0"
      ],
      "metadata": {
        "id": "wETXrtI2hNGH"
      },
      "execution_count": 3,
      "outputs": []
    },
    {
      "cell_type": "code",
      "source": [
        "class Perceptron(Activation_function):\n",
        "  def __init__(self):\n",
        "    self.weights = []\n",
        "\n",
        "  def fit(self,X,y,epochs=1000,alpha=0.01):\n",
        "    self.weights = [1]*(X.shape[1]+1)\n",
        "    X = np.insert(X,0,1,axis=1)\n",
        "    for i in range(epochs):\n",
        "      j = np.random.randint(0,X.shape[0])\n",
        "      y_pred = 0\n",
        "      for temp in range(len(self.weights)):\n",
        "        y_pred = y_pred + self.weights[temp]*X[j][temp]\n",
        "      y_pred = self.step(y_pred)\n",
        "      if y[j] == y_pred:\n",
        "        continue\n",
        "      self.weights = self.weights + alpha*(y[j]-y_pred)*X[j]\n",
        "\n",
        "    return self.weights[0],self.weights[1:]\n",
        "\n",
        "  def fit_with_np(self,X,y,epochs=1000,alpha=0.01):\n",
        "    X = np.insert(X,0,1,axis=1)\n",
        "    self.weights = np.ones(X.shape[1])\n",
        "\n",
        "    for i in range(epochs):\n",
        "        j = np.random.randint(0,X.shape[0])\n",
        "        y_hat = self.step(np.dot(X[j],self.weights))\n",
        "        self.weights = self.weights + alpha*(y[j]-y_hat)*X[j]\n",
        "\n",
        "    return self.weights[0],self.weights[1:]\n",
        "\n",
        "  def fit_with_loss_function(self,X,y,epochs=1000,alpha=0.01):\n",
        "    self.weights = np.ones(X.shape[1]+1)\n",
        "    for j in range(epochs):\n",
        "      for i in range(X.shape[0]):\n",
        "        for temp in range(X.shape[1]):\n",
        "          z = self.weights[temp]*X[i][temp]\n",
        "        z = z + self.weights[-1]\n",
        "\n",
        "        if z*y[i] < 0:\n",
        "          for temp in range(X.shape[1]):\n",
        "            self.weights[temp] = self.weights[temp] + alpha*y[i]*X[i][temp]\n",
        "          self.weights[-1] = self.weights[-1] + alpha*y[i]\n",
        "    return self.weights[:-1],self.weights[-1]\n"
      ],
      "metadata": {
        "id": "XM5IaAeqfsfM"
      },
      "execution_count": 19,
      "outputs": []
    },
    {
      "cell_type": "code",
      "source": [
        "perceptron = Perceptron()\n",
        "perceptron.fit_with_np(X,y)"
      ],
      "metadata": {
        "colab": {
          "base_uri": "https://localhost:8080/"
        },
        "id": "uK1r7Wiz427m",
        "outputId": "b0434ed5-f77a-480a-bbf1-5d9900a8dd8c"
      },
      "execution_count": 20,
      "outputs": [
        {
          "output_type": "execute_result",
          "data": {
            "text/plain": [
              "(1.01, array([1.42723913, 0.22132867, 0.06535447]))"
            ]
          },
          "metadata": {},
          "execution_count": 20
        }
      ]
    },
    {
      "cell_type": "code",
      "source": [
        "perceptron.fit_with_loss_function(X,y)"
      ],
      "metadata": {
        "id": "LO6E6LG-84fs",
        "colab": {
          "base_uri": "https://localhost:8080/"
        },
        "outputId": "1d890f30-c71e-49d7-c198-d8678c889918"
      },
      "execution_count": 21,
      "outputs": [
        {
          "output_type": "execute_result",
          "data": {
            "text/plain": [
              "(array([1.02430859, 0.8064965 , 0.50748074]), 1.2400000000000002)"
            ]
          },
          "metadata": {},
          "execution_count": 21
        }
      ]
    },
    {
      "cell_type": "code",
      "source": [],
      "metadata": {
        "id": "DmqB3CrKHlCW"
      },
      "execution_count": null,
      "outputs": []
    }
  ]
}